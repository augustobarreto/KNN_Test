{
 "cells": [
  {
   "cell_type": "code",
   "execution_count": 171,
   "id": "reduced-bahamas",
   "metadata": {},
   "outputs": [],
   "source": [
    "#Importando as bibliotecas que vamos usar\n",
    "import pandas as pd;\n",
    "import numpy as np;\n",
    "np.seterr(over='ignore')\n",
    "import math;"
   ]
  },
  {
   "cell_type": "code",
   "execution_count": 172,
   "id": "partial-profession",
   "metadata": {},
   "outputs": [],
   "source": [
    "# Dicionário para mapear os 22 atributos, a cada indíce. O primeiro atributo pode ser b,c,x,f,k,s a quem deve-se atribuir 0 para n, 1 para c, 2 para x, 3 para f, 4 para k e 5 para s. Fazemos o primeiro elemento de preparation ser preparation[1] = 'bcxfks' assim, podemos fazer a troca pela indexação da string. Ex: preparation[1].index('c') = 2, preparation[5].index('y') = 3\n",
    "preparation = {1: 'bcxfks', 2: 'fgys', 3: 'nbcgrpuewy', 4: 'tf', 5: 'alcyfmnps', 6: 'adfn', 7: 'cwd', 8: 'bn',\n",
    "               9: 'knbhgropuewy', 10: 'et', 11: 'bcuezr?', 12: 'fyks', 13: 'fyks', 14: 'nbcgopewy', 15: 'nbcgopewy',\n",
    "               16: 'pu', 17: 'nowy', 18: 'not', 19: 'ceflnpsz', 20: 'knbhrouwy', 21: 'acnsvy', 22: 'glmpuwd'}"
   ]
  },
  {
   "cell_type": "code",
   "execution_count": 173,
   "id": "adequate-benchmark",
   "metadata": {},
   "outputs": [
    {
     "name": "stdout",
     "output_type": "stream",
     "text": [
      "1\n",
      "4000\n"
     ]
    }
   ],
   "source": [
    "# Número de vizinhos e Ntrain\n",
    "knn = int(input())\n",
    "n = int(input())\n"
   ]
  },
  {
   "cell_type": "code",
   "execution_count": 174,
   "id": "enabling-reward",
   "metadata": {},
   "outputs": [],
   "source": [
    "#Função para ler a entrada em CSV e retornar como matriz Numpy\n",
    "def readcsv(filename):\n",
    "    data = pd.read_csv(filename) \n",
    "    return(np.array(data)) "
   ]
  },
  {
   "cell_type": "code",
   "execution_count": 175,
   "id": "efficient-baltimore",
   "metadata": {},
   "outputs": [],
   "source": [
    "#Arquivo de Entrada\n",
    "data = readcsv('mushroom.csv')"
   ]
  },
  {
   "cell_type": "code",
   "execution_count": 176,
   "id": "adolescent-plaintiff",
   "metadata": {},
   "outputs": [],
   "source": [
    "# A função modeling recebe a matriz x_train e devolve a matriz df. A matriz df é o conjunto de dados númericos da matriz x_train e tem tamanho igual a matriz x_train.\n",
    "def modeling(n_train, x_train):\n",
    "    df = []\n",
    "    # Esse laço percorrerá as k linhas da matriz x_train e criará uma lista temporária df_temp.\n",
    "    for k in range(n_train):\n",
    "        i = 1\n",
    "        df_temp = []\n",
    "        # Esse laço percorrerá cada coluna da linha fixada k. E cada valor numerico de preparation[i].index(x_train[k][i-1]) será adicionado a lista df_temp. Assim o k está fixo e o i variando de 1 até 22. Tem i-1 pois o primeiro valor de x_train é x_train[0][0] enquanto o dicionário começa por preparation[1]. \n",
    "        while i != 23:\n",
    "            df_temp.append(preparation[i].index(x_train[k][i - 1]))\n",
    "            i += 1\n",
    "        # Por fim, com o fim do laço while, teremos df_temp sendo uma matriz com uma linha e 22 colunas dos valores númericos da linha fixada de x_train. Assim adicionamos df_temp a df. Df terá tamanho igual a x_train.\n",
    "        df.append(df_temp)\n",
    "    return df"
   ]
  },
  {
   "cell_type": "code",
   "execution_count": 177,
   "id": "ethical-arthur",
   "metadata": {},
   "outputs": [],
   "source": [
    "# Salvamos toda a matriz com os valores númericos como sendo df_x\n",
    "df_x = modeling(len(data), data[:,0:22])\n",
    "\n",
    "data[:,0:22] = df_x;\n",
    "\n",
    "#DataFrame Pandas\n",
    "data =  pd.DataFrame(data)"
   ]
  },
  {
   "cell_type": "code",
   "execution_count": 178,
   "id": "capital-parish",
   "metadata": {},
   "outputs": [],
   "source": [
    "#Divisão de X e Y no dataset numérico\n",
    "X = data.iloc[:, :21].values\n",
    "y = data.iloc[:, -1].values"
   ]
  },
  {
   "cell_type": "code",
   "execution_count": 179,
   "id": "annual-mainstream",
   "metadata": {},
   "outputs": [],
   "source": [
    "#Divisão do modelo para teste e para treinamento\n",
    "from sklearn.model_selection import train_test_split\n",
    "X_train, X_test, y_train, y_test = train_test_split(X, y, test_size=((len(data) - n)/len(data)))"
   ]
  },
  {
   "cell_type": "code",
   "execution_count": 180,
   "id": "given-checkout",
   "metadata": {},
   "outputs": [
    {
     "data": {
      "text/plain": [
       "KNeighborsClassifier(n_neighbors=1)"
      ]
     },
     "execution_count": 180,
     "metadata": {},
     "output_type": "execute_result"
    }
   ],
   "source": [
    "#Importamos o classificador KNN e aplicamos o modelo com k vizinhos com base em X_train e Y-train\n",
    "\n",
    "from sklearn.neighbors import KNeighborsClassifier\n",
    "classifier = KNeighborsClassifier(n_neighbors=knn)\n",
    "classifier.fit(X_train, y_train)"
   ]
  },
  {
   "cell_type": "code",
   "execution_count": 181,
   "id": "proprietary-grace",
   "metadata": {},
   "outputs": [],
   "source": [
    "#Y previsto com base no classificador treinado e X_test como input\n",
    "\n",
    "y_pred = classifier.predict(X_test)\n"
   ]
  },
  {
   "cell_type": "code",
   "execution_count": 182,
   "id": "respective-administrator",
   "metadata": {},
   "outputs": [
    {
     "name": "stdout",
     "output_type": "stream",
     "text": [
      "[[2131    0]\n",
      " [   0 1993]]\n",
      "              precision    recall  f1-score   support\n",
      "\n",
      "           e       1.00      1.00      1.00      2131\n",
      "           p       1.00      1.00      1.00      1993\n",
      "\n",
      "    accuracy                           1.00      4124\n",
      "   macro avg       1.00      1.00      1.00      4124\n",
      "weighted avg       1.00      1.00      1.00      4124\n",
      "\n"
     ]
    }
   ],
   "source": [
    "#Métricas de acurácia do sklearn\n",
    "\n",
    "from sklearn.metrics import classification_report, confusion_matrix\n",
    "print(confusion_matrix(y_test, y_pred))\n",
    "print(classification_report(y_test, y_pred))"
   ]
  },
  {
   "cell_type": "code",
   "execution_count": 183,
   "id": "fitting-reputation",
   "metadata": {},
   "outputs": [
    {
     "name": "stdout",
     "output_type": "stream",
     "text": [
      "Acurácia do Classificador Exemplo: 100.0 %\n"
     ]
    }
   ],
   "source": [
    "#Comparar Y Classificado com Y Verdadeiro\n",
    "acum = 0;\n",
    "i = 0;\n",
    "for i in range(len(y_test)):\n",
    "    if y_pred[i] == y_test[i]:\n",
    "        acum = acum + 1;\n",
    "\n",
    "#Acurácia\n",
    "print(\"Acurácia do Classificador Exemplo:\",acum*100/len(y_test),\"%\")"
   ]
  },
  {
   "cell_type": "code",
   "execution_count": null,
   "id": "swedish-microwave",
   "metadata": {},
   "outputs": [],
   "source": []
  },
  {
   "cell_type": "code",
   "execution_count": null,
   "id": "hindu-efficiency",
   "metadata": {},
   "outputs": [],
   "source": []
  },
  {
   "cell_type": "code",
   "execution_count": null,
   "id": "following-beast",
   "metadata": {},
   "outputs": [],
   "source": []
  },
  {
   "cell_type": "code",
   "execution_count": null,
   "id": "included-stress",
   "metadata": {},
   "outputs": [],
   "source": []
  },
  {
   "cell_type": "code",
   "execution_count": null,
   "id": "physical-prompt",
   "metadata": {},
   "outputs": [],
   "source": []
  }
 ],
 "metadata": {
  "kernelspec": {
   "display_name": "Python 3",
   "language": "python",
   "name": "python3"
  },
  "language_info": {
   "codemirror_mode": {
    "name": "ipython",
    "version": 3
   },
   "file_extension": ".py",
   "mimetype": "text/x-python",
   "name": "python",
   "nbconvert_exporter": "python",
   "pygments_lexer": "ipython3",
   "version": "3.8.5"
  }
 },
 "nbformat": 4,
 "nbformat_minor": 5
}
